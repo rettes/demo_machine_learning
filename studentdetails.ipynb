{
 "cells": [
  {
   "cell_type": "code",
   "execution_count": 5,
   "metadata": {},
   "outputs": [
    {
     "name": "stdout",
     "output_type": "stream",
     "text": [
      "Enter Student Id 2\n",
      "Enter Student Name 3\n",
      "Enter marks scored 212\n",
      "ID: 2 Name: 3 Marks: 212.0\n"
     ]
    }
   ],
   "source": [
    "studentid = int(input(\"Enter Student Id \"))\n",
    "name = input(\"Enter Student Name \")\n",
    "marks = float(input(\"Enter marks scored \"))\n",
    "\n",
    "print(\"ID:\", studentid, \"Name:\", name, \"Marks:\",marks)\n"
   ]
  }
 ],
 "metadata": {
  "kernelspec": {
   "display_name": "Python 3",
   "language": "python",
   "name": "python3"
  },
  "language_info": {
   "codemirror_mode": {
    "name": "ipython",
    "version": 3
   },
   "file_extension": ".py",
   "mimetype": "text/x-python",
   "name": "python",
   "nbconvert_exporter": "python",
   "pygments_lexer": "ipython3",
   "version": "3.7.3"
  }
 },
 "nbformat": 4,
 "nbformat_minor": 2
}
