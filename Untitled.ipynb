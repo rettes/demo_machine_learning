{
 "cells": [
  {
   "cell_type": "code",
   "execution_count": 1,
   "metadata": {},
   "outputs": [
    {
     "data": {
      "text/html": [
       "<div>\n",
       "<style scoped>\n",
       "    .dataframe tbody tr th:only-of-type {\n",
       "        vertical-align: middle;\n",
       "    }\n",
       "\n",
       "    .dataframe tbody tr th {\n",
       "        vertical-align: top;\n",
       "    }\n",
       "\n",
       "    .dataframe thead th {\n",
       "        text-align: right;\n",
       "    }\n",
       "</style>\n",
       "<table border=\"1\" class=\"dataframe\">\n",
       "  <thead>\n",
       "    <tr style=\"text-align: right;\">\n",
       "      <th></th>\n",
       "      <th>orderid</th>\n",
       "      <th>shopid</th>\n",
       "      <th>userid</th>\n",
       "      <th>event_time</th>\n",
       "    </tr>\n",
       "  </thead>\n",
       "  <tbody>\n",
       "    <tr>\n",
       "      <th>0</th>\n",
       "      <td>31076582227611</td>\n",
       "      <td>93950878</td>\n",
       "      <td>30530270</td>\n",
       "      <td>2019-12-27 00:23:03</td>\n",
       "    </tr>\n",
       "    <tr>\n",
       "      <th>67272</th>\n",
       "      <td>31076582227612</td>\n",
       "      <td>85459037</td>\n",
       "      <td>30530270</td>\n",
       "      <td>2019-12-27 00:23:03</td>\n",
       "    </tr>\n",
       "  </tbody>\n",
       "</table>\n",
       "</div>"
      ],
      "text/plain": [
       "              orderid    shopid    userid          event_time\n",
       "0      31076582227611  93950878  30530270 2019-12-27 00:23:03\n",
       "67272  31076582227612  85459037  30530270 2019-12-27 00:23:03"
      ]
     },
     "execution_count": 1,
     "metadata": {},
     "output_type": "execute_result"
    }
   ],
   "source": [
    "import pandas as pd\n",
    "import os \n",
    "\n",
    "data = pd.read_csv(\"order_brush_order.csv\")\n",
    "data.event_time = pd.to_datetime(data.event_time, format = \"%Y-%m-%d %H:%M:%S\")\n",
    "\n",
    "# data[(data.shopid > 2000000) & (data.userid > 300000)]\n",
    "data[data.userid == 30530270]\n",
    "\n",
    "\n",
    "\n",
    "\n"
   ]
  },
  {
   "cell_type": "code",
   "execution_count": null,
   "metadata": {},
   "outputs": [],
   "source": [
    "data_tuples = list(zip(data2[data2.userid == i],data2[data2.shopid == i].event_time))"
   ]
  },
  {
   "cell_type": "code",
   "execution_count": 3,
   "metadata": {
    "scrolled": true
   },
   "outputs": [
    {
     "name": "stdout",
     "output_type": "stream",
     "text": [
      "              orderid     shopid     userid          event_time\n",
      "5267   31078326520636  136564914   64306412 2019-12-27 00:52:07\n",
      "6258   31239947956355  136564914  191211430 2019-12-28 21:45:47\n",
      "8784   31314624706182  136564914   94349278 2019-12-29 18:30:24\n",
      "9132   31459635370083  136564914  178491887 2019-12-31 10:47:15\n",
      "12836  31461163874452  136564914  178491887 2019-12-31 11:12:44\n",
      "13339  31487033996742  136564914  124942519 2019-12-31 18:23:53\n",
      "17120  31460552586619  136564914  178491887 2019-12-31 11:02:32\n",
      "19046  31460079839934  136564914  178491887 2019-12-31 10:54:40\n",
      "19377  31179887059312  136564914  189445983 2019-12-28 05:04:47\n"
     ]
    }
   ],
   "source": [
    "import datetime\n",
    "\n",
    "data2 = data[0:20000].copy()\n",
    "\n",
    "shop = pd.unique(data2.shopid)\n",
    "shop_order = []\n",
    "for i in range(len(shop)):\n",
    "    orderlist = []\n",
    "    orderlist = pd.array(data2[data2.shopid == shop[i]].event_time)\n",
    "    shop_order.append(orderlist)\n",
    "\n",
    "brushorder = []\n",
    "\n",
    "for j in range(len(shop_order)): \n",
    "    if len(shop_order[j]) > 3: \n",
    "        brushorder.append(shop[j])\n",
    "    \n",
    "#Sort according to event time\n",
    "#Create a dataframe that contains both event time and user id \n",
    "flag = []\n",
    "for i in brushorder: \n",
    "    data_tuples = list(zip(data2[data2.shopid == i].userid,data2[data2.shopid == i].event_time))\n",
    "    data_tuples = sorted(data_tuples, key = lambda x: x[1])\n",
    "    if(i == 136564914):\n",
    "        print(data2[data2.shopid == 136564914])\n",
    "    count = 0\n",
    "    for j in range(2,len(data_tuples)): \n",
    "        startpoint = data_tuples[count]\n",
    "        comparepoint = data_tuples[j]\n",
    "        timedelta = comparepoint[1] - startpoint[1]\n",
    "        totalhr = timedelta.total_seconds()/3600\n",
    "        if(totalhr == 1 ):\n",
    "            no_transactions = len(data_tuples[count:j+1])\n",
    "            if(no_transactions / len(set([i[0] for i in data_tuples[count:j+1]])) >= 3):\n",
    "#                 print(count, j+1)\n",
    "#                 print(data_tuples[count:j+1])\n",
    "                flag.append(i)\n",
    "                break\n",
    "            else:\n",
    "                count = j+1\n",
    "        elif(totalhr > 1):\n",
    "            no_transactions = len(data_tuples[count:j])\n",
    "            if(no_transactions/ len(set([i[0] for i in data_tuples[count:j]])) >= 3):\n",
    "#                 print(count, j)\n",
    "#                 print(data_tuples[count:j])\n",
    "                flag.append(i)\n",
    "                break\n",
    "            else:\n",
    "                count = j        \n",
    "# print(flag)\n"
   ]
  },
  {
   "cell_type": "code",
   "execution_count": 5,
   "metadata": {},
   "outputs": [
    {
     "data": {
      "text/html": [
       "<div>\n",
       "<style scoped>\n",
       "    .dataframe tbody tr th:only-of-type {\n",
       "        vertical-align: middle;\n",
       "    }\n",
       "\n",
       "    .dataframe tbody tr th {\n",
       "        vertical-align: top;\n",
       "    }\n",
       "\n",
       "    .dataframe thead th {\n",
       "        text-align: right;\n",
       "    }\n",
       "</style>\n",
       "<table border=\"1\" class=\"dataframe\">\n",
       "  <thead>\n",
       "    <tr style=\"text-align: right;\">\n",
       "      <th></th>\n",
       "      <th>orderid</th>\n",
       "      <th>shopid</th>\n",
       "      <th>userid</th>\n",
       "      <th>event_time</th>\n",
       "    </tr>\n",
       "  </thead>\n",
       "  <tbody>\n",
       "    <tr>\n",
       "      <th>9132</th>\n",
       "      <td>31459635370083</td>\n",
       "      <td>136564914</td>\n",
       "      <td>178491887</td>\n",
       "      <td>2019-12-31 10:47:15</td>\n",
       "    </tr>\n",
       "    <tr>\n",
       "      <th>19046</th>\n",
       "      <td>31460079839934</td>\n",
       "      <td>136564914</td>\n",
       "      <td>178491887</td>\n",
       "      <td>2019-12-31 10:54:40</td>\n",
       "    </tr>\n",
       "    <tr>\n",
       "      <th>17120</th>\n",
       "      <td>31460552586619</td>\n",
       "      <td>136564914</td>\n",
       "      <td>178491887</td>\n",
       "      <td>2019-12-31 11:02:32</td>\n",
       "    </tr>\n",
       "    <tr>\n",
       "      <th>12836</th>\n",
       "      <td>31461163874452</td>\n",
       "      <td>136564914</td>\n",
       "      <td>178491887</td>\n",
       "      <td>2019-12-31 11:12:44</td>\n",
       "    </tr>\n",
       "  </tbody>\n",
       "</table>\n",
       "</div>"
      ],
      "text/plain": [
       "              orderid     shopid     userid          event_time\n",
       "9132   31459635370083  136564914  178491887 2019-12-31 10:47:15\n",
       "19046  31460079839934  136564914  178491887 2019-12-31 10:54:40\n",
       "17120  31460552586619  136564914  178491887 2019-12-31 11:02:32\n",
       "12836  31461163874452  136564914  178491887 2019-12-31 11:12:44"
      ]
     },
     "execution_count": 5,
     "metadata": {},
     "output_type": "execute_result"
    }
   ],
   "source": [
    "data2[(data2.shopid == 136564914) & (data2.userid == 178491887)].sort_values(by = \"event_time\")"
   ]
  }
 ],
 "metadata": {
  "kernelspec": {
   "display_name": "Python 3",
   "language": "python",
   "name": "python3"
  },
  "language_info": {
   "codemirror_mode": {
    "name": "ipython",
    "version": 3
   },
   "file_extension": ".py",
   "mimetype": "text/x-python",
   "name": "python",
   "nbconvert_exporter": "python",
   "pygments_lexer": "ipython3",
   "version": "3.7.3"
  }
 },
 "nbformat": 4,
 "nbformat_minor": 2
}
